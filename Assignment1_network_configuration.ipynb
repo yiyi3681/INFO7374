{
 "cells": [
  {
   "cell_type": "code",
   "execution_count": 1,
   "metadata": {},
   "outputs": [
    {
     "name": "stderr",
     "output_type": "stream",
     "text": [
      "Using TensorFlow backend.\n"
     ]
    }
   ],
   "source": [
    "from __future__ import print_function\n",
    "import pickle\n",
    "import keras\n",
    "from keras.datasets import cifar10\n",
    "from keras.preprocessing.image import ImageDataGenerator\n",
    "from keras.models import Sequential\n",
    "from keras.layers import Dense, Dropout, Activation, Flatten\n",
    "from keras.layers import Conv2D, MaxPooling2D\n",
    "import os\n",
    "import matplotlib.pyplot as plt"
   ]
  },
  {
   "cell_type": "code",
   "execution_count": 2,
   "metadata": {},
   "outputs": [
    {
     "data": {
      "text/plain": [
       "['/job:localhost/replica:0/task:0/device:GPU:0']"
      ]
     },
     "execution_count": 2,
     "metadata": {},
     "output_type": "execute_result"
    }
   ],
   "source": [
    "from keras import backend as K\n",
    "K.tensorflow_backend._get_available_gpus()"
   ]
  },
  {
   "cell_type": "markdown",
   "metadata": {},
   "source": [
    "# Code from https://github.com/fchollet/keras/blob/master/examples/cifar10_cnn.py"
   ]
  },
  {
   "cell_type": "code",
   "execution_count": 3,
   "metadata": {
    "collapsed": true
   },
   "outputs": [],
   "source": [
    "batch_size = 32\n",
    "num_classes = 10\n",
    "epochs = 100\n",
    "data_augmentation = False\n",
    "num_predictions = 20\n",
    "save_dir = os.path.join(os.getcwd(), 'saved_models')\n",
    "model_name = 'keras_cifar10_trained_model.h5'"
   ]
  },
  {
   "cell_type": "code",
   "execution_count": 4,
   "metadata": {},
   "outputs": [
    {
     "name": "stdout",
     "output_type": "stream",
     "text": [
      "x_train shape: (50000, 32, 32, 3)\n",
      "50000 train samples\n",
      "10000 test samples\n"
     ]
    }
   ],
   "source": [
    "(x_train, y_train), (x_test, y_test) = cifar10.load_data()\n",
    "print('x_train shape:', x_train.shape)\n",
    "print(x_train.shape[0], 'train samples')\n",
    "print(x_test.shape[0], 'test samples')"
   ]
  },
  {
   "cell_type": "code",
   "execution_count": 5,
   "metadata": {
    "collapsed": true
   },
   "outputs": [],
   "source": [
    "y_train = keras.utils.to_categorical(y_train, num_classes)\n",
    "y_test = keras.utils.to_categorical(y_test, num_classes)\n",
    "\n",
    "model = Sequential()\n",
    "model.add(Conv2D(32, (3, 3), padding='same',\n",
    "                 input_shape=x_train.shape[1:]))\n",
    "model.add(Activation('relu'))\n",
    "model.add(Conv2D(32, (3, 3)))\n",
    "model.add(Activation('relu'))\n",
    "model.add(MaxPooling2D(pool_size=(2, 2)))\n",
    "model.add(Dropout(0.25))\n",
    "\n",
    "model.add(Conv2D(64, (3, 3), padding='same'))\n",
    "model.add(Activation('relu'))\n",
    "model.add(Conv2D(64, (3, 3)))\n",
    "model.add(Activation('relu'))\n",
    "model.add(MaxPooling2D(pool_size=(2, 2)))\n",
    "model.add(Dropout(0.25))\n",
    "\n",
    "model.add(Flatten())\n",
    "model.add(Dense(512))\n",
    "model.add(Activation('relu'))\n",
    "model.add(Dropout(0.5))\n",
    "model.add(Dense(num_classes))\n",
    "model.add(Activation('softmax'))"
   ]
  },
  {
   "cell_type": "code",
   "execution_count": 6,
   "metadata": {
    "collapsed": true
   },
   "outputs": [],
   "source": [
    "opt = keras.optimizers.rmsprop(lr=0.0001, decay=1e-6)\n",
    "# from keras.optimizers import SGD\n",
    "# opt = SGD(lr=0.01, decay=1e-6)"
   ]
  },
  {
   "cell_type": "code",
   "execution_count": 7,
   "metadata": {
    "scrolled": false
   },
   "outputs": [
    {
     "name": "stdout",
     "output_type": "stream",
     "text": [
      "_________________________________________________________________\n",
      "Layer (type)                 Output Shape              Param #   \n",
      "=================================================================\n",
      "conv2d_1 (Conv2D)            (None, 32, 32, 32)        896       \n",
      "_________________________________________________________________\n",
      "activation_1 (Activation)    (None, 32, 32, 32)        0         \n",
      "_________________________________________________________________\n",
      "conv2d_2 (Conv2D)            (None, 30, 30, 32)        9248      \n",
      "_________________________________________________________________\n",
      "activation_2 (Activation)    (None, 30, 30, 32)        0         \n",
      "_________________________________________________________________\n",
      "max_pooling2d_1 (MaxPooling2 (None, 15, 15, 32)        0         \n",
      "_________________________________________________________________\n",
      "dropout_1 (Dropout)          (None, 15, 15, 32)        0         \n",
      "_________________________________________________________________\n",
      "conv2d_3 (Conv2D)            (None, 15, 15, 64)        18496     \n",
      "_________________________________________________________________\n",
      "activation_3 (Activation)    (None, 15, 15, 64)        0         \n",
      "_________________________________________________________________\n",
      "conv2d_4 (Conv2D)            (None, 13, 13, 64)        36928     \n",
      "_________________________________________________________________\n",
      "activation_4 (Activation)    (None, 13, 13, 64)        0         \n",
      "_________________________________________________________________\n",
      "max_pooling2d_2 (MaxPooling2 (None, 6, 6, 64)          0         \n",
      "_________________________________________________________________\n",
      "dropout_2 (Dropout)          (None, 6, 6, 64)          0         \n",
      "_________________________________________________________________\n",
      "flatten_1 (Flatten)          (None, 2304)              0         \n",
      "_________________________________________________________________\n",
      "dense_1 (Dense)              (None, 512)               1180160   \n",
      "_________________________________________________________________\n",
      "activation_5 (Activation)    (None, 512)               0         \n",
      "_________________________________________________________________\n",
      "dropout_3 (Dropout)          (None, 512)               0         \n",
      "_________________________________________________________________\n",
      "dense_2 (Dense)              (None, 10)                5130      \n",
      "_________________________________________________________________\n",
      "activation_6 (Activation)    (None, 10)                0         \n",
      "=================================================================\n",
      "Total params: 1,250,858\n",
      "Trainable params: 1,250,858\n",
      "Non-trainable params: 0\n",
      "_________________________________________________________________\n"
     ]
    }
   ],
   "source": [
    "model.summary()"
   ]
  },
  {
   "cell_type": "code",
   "execution_count": 9,
   "metadata": {
    "scrolled": true
   },
   "outputs": [
    {
     "name": "stdout",
     "output_type": "stream",
     "text": [
      "Not using data augmentation.\n",
      "Train on 50000 samples, validate on 10000 samples\n",
      "Epoch 1/100\n",
      "50000/50000 [==============================] - 21s 412us/step - loss: 1.8150 - acc: 0.3340 - val_loss: 1.5229 - val_acc: 0.4473\n",
      "Epoch 2/100\n",
      "50000/50000 [==============================] - 19s 384us/step - loss: 1.4949 - acc: 0.4577 - val_loss: 1.3387 - val_acc: 0.5214\n",
      "Epoch 3/100\n",
      "50000/50000 [==============================] - 19s 383us/step - loss: 1.3516 - acc: 0.5157 - val_loss: 1.2391 - val_acc: 0.5669\n",
      "Epoch 4/100\n",
      "50000/50000 [==============================] - 19s 384us/step - loss: 1.2531 - acc: 0.5559 - val_loss: 1.1327 - val_acc: 0.6032\n",
      "Epoch 5/100\n",
      "50000/50000 [==============================] - 19s 384us/step - loss: 1.1673 - acc: 0.5898 - val_loss: 1.0976 - val_acc: 0.6114\n",
      "Epoch 6/100\n",
      "50000/50000 [==============================] - 19s 385us/step - loss: 1.0960 - acc: 0.6185 - val_loss: 1.0015 - val_acc: 0.6475\n",
      "Epoch 7/100\n",
      "50000/50000 [==============================] - 19s 384us/step - loss: 1.0382 - acc: 0.6367 - val_loss: 0.9435 - val_acc: 0.6705\n",
      "Epoch 8/100\n",
      "50000/50000 [==============================] - 19s 387us/step - loss: 0.9913 - acc: 0.6545 - val_loss: 0.9330 - val_acc: 0.6744\n",
      "Epoch 9/100\n",
      "50000/50000 [==============================] - 19s 385us/step - loss: 0.9521 - acc: 0.6678 - val_loss: 0.8859 - val_acc: 0.6904\n",
      "Epoch 10/100\n",
      "50000/50000 [==============================] - 19s 387us/step - loss: 0.9202 - acc: 0.6770 - val_loss: 0.8743 - val_acc: 0.6941\n",
      "Epoch 11/100\n",
      "50000/50000 [==============================] - 19s 385us/step - loss: 0.8878 - acc: 0.6922 - val_loss: 0.9191 - val_acc: 0.6845\n",
      "Epoch 12/100\n",
      "50000/50000 [==============================] - 19s 387us/step - loss: 0.8660 - acc: 0.6992 - val_loss: 0.8320 - val_acc: 0.7112\n",
      "Epoch 13/100\n",
      "50000/50000 [==============================] - 19s 387us/step - loss: 0.8464 - acc: 0.7064 - val_loss: 0.8052 - val_acc: 0.7184\n",
      "Epoch 14/100\n",
      "50000/50000 [==============================] - 20s 392us/step - loss: 0.8239 - acc: 0.7139 - val_loss: 0.8344 - val_acc: 0.7146\n",
      "Epoch 15/100\n",
      "50000/50000 [==============================] - 20s 398us/step - loss: 0.8044 - acc: 0.7232 - val_loss: 0.7713 - val_acc: 0.7320\n",
      "Epoch 16/100\n",
      "50000/50000 [==============================] - 20s 392us/step - loss: 0.7862 - acc: 0.7276 - val_loss: 0.7538 - val_acc: 0.7405\n",
      "Epoch 17/100\n",
      "50000/50000 [==============================] - 20s 393us/step - loss: 0.7746 - acc: 0.7307 - val_loss: 0.7469 - val_acc: 0.7427\n",
      "Epoch 18/100\n",
      "50000/50000 [==============================] - 20s 392us/step - loss: 0.7598 - acc: 0.7374 - val_loss: 0.7375 - val_acc: 0.7448\n",
      "Epoch 19/100\n",
      "50000/50000 [==============================] - 20s 391us/step - loss: 0.7474 - acc: 0.7420 - val_loss: 0.7530 - val_acc: 0.7417\n",
      "Epoch 20/100\n",
      "50000/50000 [==============================] - 19s 390us/step - loss: 0.7438 - acc: 0.7436 - val_loss: 0.7345 - val_acc: 0.7492\n",
      "Epoch 21/100\n",
      "50000/50000 [==============================] - 20s 393us/step - loss: 0.7342 - acc: 0.7478 - val_loss: 0.7181 - val_acc: 0.7569\n",
      "Epoch 22/100\n",
      "50000/50000 [==============================] - 20s 392us/step - loss: 0.7268 - acc: 0.7518 - val_loss: 0.7483 - val_acc: 0.7422\n",
      "Epoch 23/100\n",
      "50000/50000 [==============================] - 20s 394us/step - loss: 0.7162 - acc: 0.7550 - val_loss: 0.7181 - val_acc: 0.7566\n",
      "Epoch 24/100\n",
      "50000/50000 [==============================] - 20s 390us/step - loss: 0.7120 - acc: 0.7565 - val_loss: 0.7101 - val_acc: 0.7598\n",
      "Epoch 25/100\n",
      "50000/50000 [==============================] - 20s 393us/step - loss: 0.7101 - acc: 0.7589 - val_loss: 0.7258 - val_acc: 0.7552\n",
      "Epoch 26/100\n",
      "50000/50000 [==============================] - 20s 390us/step - loss: 0.7020 - acc: 0.7608 - val_loss: 0.6970 - val_acc: 0.7607\n",
      "Epoch 27/100\n",
      "50000/50000 [==============================] - 20s 391us/step - loss: 0.7029 - acc: 0.7611 - val_loss: 0.6970 - val_acc: 0.7603\n",
      "Epoch 28/100\n",
      "50000/50000 [==============================] - 20s 391us/step - loss: 0.6957 - acc: 0.7647 - val_loss: 0.7011 - val_acc: 0.7611\n",
      "Epoch 29/100\n",
      "50000/50000 [==============================] - 20s 391us/step - loss: 0.6895 - acc: 0.7688 - val_loss: 0.7034 - val_acc: 0.7628\n",
      "Epoch 30/100\n",
      "50000/50000 [==============================] - 20s 395us/step - loss: 0.6874 - acc: 0.7685 - val_loss: 0.7140 - val_acc: 0.7622\n",
      "Epoch 31/100\n",
      "50000/50000 [==============================] - 20s 393us/step - loss: 0.6844 - acc: 0.7698 - val_loss: 0.7075 - val_acc: 0.7632\n",
      "Epoch 32/100\n",
      "50000/50000 [==============================] - 19s 390us/step - loss: 0.6832 - acc: 0.7706 - val_loss: 0.6795 - val_acc: 0.7720\n",
      "Epoch 33/100\n",
      "50000/50000 [==============================] - 20s 393us/step - loss: 0.6800 - acc: 0.7711 - val_loss: 0.6730 - val_acc: 0.7728\n",
      "Epoch 34/100\n",
      "50000/50000 [==============================] - 20s 392us/step - loss: 0.6767 - acc: 0.7725 - val_loss: 0.7757 - val_acc: 0.7491\n",
      "Epoch 35/100\n",
      "50000/50000 [==============================] - 20s 391us/step - loss: 0.6722 - acc: 0.7714 - val_loss: 0.6808 - val_acc: 0.7693\n",
      "Epoch 36/100\n",
      "50000/50000 [==============================] - 20s 394us/step - loss: 0.6712 - acc: 0.7754 - val_loss: 0.6716 - val_acc: 0.7757\n",
      "Epoch 37/100\n",
      "50000/50000 [==============================] - 20s 392us/step - loss: 0.6689 - acc: 0.7762 - val_loss: 0.6650 - val_acc: 0.7765\n",
      "Epoch 38/100\n",
      "50000/50000 [==============================] - 20s 393us/step - loss: 0.6702 - acc: 0.7750 - val_loss: 0.6869 - val_acc: 0.7702\n",
      "Epoch 39/100\n",
      "50000/50000 [==============================] - 20s 391us/step - loss: 0.6643 - acc: 0.7767 - val_loss: 0.6669 - val_acc: 0.7725\n",
      "Epoch 40/100\n",
      "50000/50000 [==============================] - 20s 390us/step - loss: 0.6601 - acc: 0.7796 - val_loss: 0.6680 - val_acc: 0.7826\n",
      "Epoch 41/100\n",
      "50000/50000 [==============================] - 20s 391us/step - loss: 0.6600 - acc: 0.7785 - val_loss: 0.6617 - val_acc: 0.7840\n",
      "Epoch 42/100\n",
      "50000/50000 [==============================] - 20s 391us/step - loss: 0.6636 - acc: 0.7788 - val_loss: 0.6682 - val_acc: 0.7788\n",
      "Epoch 43/100\n",
      "50000/50000 [==============================] - 19s 389us/step - loss: 0.6627 - acc: 0.7787 - val_loss: 0.6585 - val_acc: 0.7828\n",
      "Epoch 44/100\n",
      "50000/50000 [==============================] - 20s 390us/step - loss: 0.6542 - acc: 0.7815 - val_loss: 0.6771 - val_acc: 0.7788\n",
      "Epoch 45/100\n",
      "50000/50000 [==============================] - 20s 393us/step - loss: 0.6538 - acc: 0.7825 - val_loss: 0.6929 - val_acc: 0.7720\n",
      "Epoch 46/100\n",
      "50000/50000 [==============================] - 20s 393us/step - loss: 0.6519 - acc: 0.7814 - val_loss: 0.6931 - val_acc: 0.7760\n",
      "Epoch 47/100\n",
      "50000/50000 [==============================] - 20s 391us/step - loss: 0.6497 - acc: 0.7831 - val_loss: 0.6766 - val_acc: 0.7795\n",
      "Epoch 48/100\n",
      "50000/50000 [==============================] - 20s 391us/step - loss: 0.6487 - acc: 0.7857 - val_loss: 0.6992 - val_acc: 0.7752\n",
      "Epoch 49/100\n",
      "50000/50000 [==============================] - 20s 392us/step - loss: 0.6462 - acc: 0.7857 - val_loss: 0.6678 - val_acc: 0.7857\n",
      "Epoch 50/100\n",
      "50000/50000 [==============================] - 20s 391us/step - loss: 0.6475 - acc: 0.7846 - val_loss: 0.7215 - val_acc: 0.7777\n",
      "Epoch 51/100\n",
      "50000/50000 [==============================] - 20s 394us/step - loss: 0.6457 - acc: 0.7868 - val_loss: 0.7286 - val_acc: 0.7717\n",
      "Epoch 52/100\n",
      "50000/50000 [==============================] - 20s 392us/step - loss: 0.6453 - acc: 0.7875 - val_loss: 0.6960 - val_acc: 0.7730\n",
      "Epoch 53/100\n",
      "50000/50000 [==============================] - 20s 391us/step - loss: 0.6402 - acc: 0.7878 - val_loss: 0.6505 - val_acc: 0.7893\n",
      "Epoch 54/100\n",
      "50000/50000 [==============================] - 20s 394us/step - loss: 0.6420 - acc: 0.7864 - val_loss: 0.6942 - val_acc: 0.7737\n",
      "Epoch 55/100\n",
      "50000/50000 [==============================] - 20s 391us/step - loss: 0.6430 - acc: 0.7875 - val_loss: 0.6775 - val_acc: 0.7817\n",
      "Epoch 56/100\n",
      "50000/50000 [==============================] - 20s 394us/step - loss: 0.6442 - acc: 0.7865 - val_loss: 0.6357 - val_acc: 0.7927\n",
      "Epoch 57/100\n",
      "50000/50000 [==============================] - 20s 393us/step - loss: 0.6381 - acc: 0.7899 - val_loss: 0.6580 - val_acc: 0.7835\n",
      "Epoch 58/100\n",
      "50000/50000 [==============================] - 19s 385us/step - loss: 0.6393 - acc: 0.7900 - val_loss: 0.7087 - val_acc: 0.7798\n",
      "Epoch 59/100\n",
      "50000/50000 [==============================] - 19s 384us/step - loss: 0.6391 - acc: 0.7890 - val_loss: 0.7214 - val_acc: 0.7697\n",
      "Epoch 60/100\n",
      "50000/50000 [==============================] - 19s 386us/step - loss: 0.6368 - acc: 0.7895 - val_loss: 0.7021 - val_acc: 0.7798\n",
      "Epoch 61/100\n",
      "50000/50000 [==============================] - 19s 385us/step - loss: 0.6337 - acc: 0.7905 - val_loss: 0.6812 - val_acc: 0.7895\n",
      "Epoch 62/100\n",
      "50000/50000 [==============================] - 19s 384us/step - loss: 0.6326 - acc: 0.7911 - val_loss: 0.6731 - val_acc: 0.7863\n",
      "Epoch 63/100\n",
      "50000/50000 [==============================] - 19s 384us/step - loss: 0.6368 - acc: 0.7906 - val_loss: 0.6826 - val_acc: 0.7819\n",
      "Epoch 64/100\n",
      "50000/50000 [==============================] - 19s 385us/step - loss: 0.6391 - acc: 0.7892 - val_loss: 0.6803 - val_acc: 0.7834\n",
      "Epoch 65/100\n",
      "50000/50000 [==============================] - 19s 384us/step - loss: 0.6322 - acc: 0.7911 - val_loss: 0.6737 - val_acc: 0.7826\n",
      "Epoch 66/100\n",
      "50000/50000 [==============================] - 19s 387us/step - loss: 0.6352 - acc: 0.7895 - val_loss: 0.6579 - val_acc: 0.7845\n",
      "Epoch 67/100\n",
      "50000/50000 [==============================] - 19s 389us/step - loss: 0.6290 - acc: 0.7921 - val_loss: 0.6780 - val_acc: 0.7778\n",
      "Epoch 68/100\n",
      "50000/50000 [==============================] - 19s 386us/step - loss: 0.6331 - acc: 0.7890 - val_loss: 0.7349 - val_acc: 0.7713\n",
      "Epoch 69/100\n",
      "50000/50000 [==============================] - 19s 386us/step - loss: 0.6342 - acc: 0.7900 - val_loss: 0.6676 - val_acc: 0.7892\n",
      "Epoch 70/100\n",
      "50000/50000 [==============================] - 19s 387us/step - loss: 0.6309 - acc: 0.7923 - val_loss: 0.7796 - val_acc: 0.7765\n",
      "Epoch 71/100\n",
      "50000/50000 [==============================] - 19s 389us/step - loss: 0.6329 - acc: 0.7924 - val_loss: 0.8849 - val_acc: 0.7415\n",
      "Epoch 72/100\n",
      "50000/50000 [==============================] - 19s 388us/step - loss: 0.6331 - acc: 0.7909 - val_loss: 0.7426 - val_acc: 0.7611\n",
      "Epoch 73/100\n",
      "50000/50000 [==============================] - 19s 387us/step - loss: 0.6273 - acc: 0.7921 - val_loss: 0.7277 - val_acc: 0.7737\n",
      "Epoch 74/100\n",
      "50000/50000 [==============================] - 20s 392us/step - loss: 0.6309 - acc: 0.7942 - val_loss: 0.7073 - val_acc: 0.7742\n",
      "Epoch 75/100\n",
      "50000/50000 [==============================] - 19s 387us/step - loss: 0.6262 - acc: 0.7926 - val_loss: 0.6525 - val_acc: 0.7842\n",
      "Epoch 76/100\n",
      "50000/50000 [==============================] - 19s 390us/step - loss: 0.6276 - acc: 0.7944 - val_loss: 0.6996 - val_acc: 0.7696\n",
      "Epoch 77/100\n",
      "50000/50000 [==============================] - 19s 387us/step - loss: 0.6313 - acc: 0.7931 - val_loss: 0.6908 - val_acc: 0.7755\n",
      "Epoch 78/100\n",
      "50000/50000 [==============================] - 19s 387us/step - loss: 0.6278 - acc: 0.7917 - val_loss: 0.7215 - val_acc: 0.7737\n",
      "Epoch 79/100\n",
      "50000/50000 [==============================] - 19s 386us/step - loss: 0.6299 - acc: 0.7914 - val_loss: 0.6462 - val_acc: 0.7901\n",
      "Epoch 80/100\n",
      "50000/50000 [==============================] - 19s 387us/step - loss: 0.6296 - acc: 0.7932 - val_loss: 0.6655 - val_acc: 0.7845\n",
      "Epoch 81/100\n",
      "50000/50000 [==============================] - 19s 388us/step - loss: 0.6266 - acc: 0.7916 - val_loss: 0.6709 - val_acc: 0.7844\n",
      "Epoch 82/100\n",
      "50000/50000 [==============================] - 19s 389us/step - loss: 0.6323 - acc: 0.7930 - val_loss: 0.7246 - val_acc: 0.7681\n",
      "Epoch 83/100\n",
      "50000/50000 [==============================] - 19s 389us/step - loss: 0.6251 - acc: 0.7951 - val_loss: 0.6859 - val_acc: 0.7800\n",
      "Epoch 84/100\n",
      "50000/50000 [==============================] - 19s 389us/step - loss: 0.6325 - acc: 0.7918 - val_loss: 0.7050 - val_acc: 0.7773\n",
      "Epoch 85/100\n",
      "50000/50000 [==============================] - 20s 391us/step - loss: 0.6271 - acc: 0.7947 - val_loss: 0.6560 - val_acc: 0.7886\n",
      "Epoch 86/100\n",
      "50000/50000 [==============================] - 20s 400us/step - loss: 0.6309 - acc: 0.7904 - val_loss: 0.6854 - val_acc: 0.7741\n",
      "Epoch 87/100\n",
      "50000/50000 [==============================] - 19s 386us/step - loss: 0.6283 - acc: 0.7936 - val_loss: 0.7203 - val_acc: 0.7671\n",
      "Epoch 88/100\n",
      "50000/50000 [==============================] - 20s 391us/step - loss: 0.6334 - acc: 0.7928 - val_loss: 0.6579 - val_acc: 0.7866\n",
      "Epoch 89/100\n",
      "50000/50000 [==============================] - 19s 389us/step - loss: 0.6290 - acc: 0.7945 - val_loss: 0.6765 - val_acc: 0.7799\n",
      "Epoch 90/100\n",
      "50000/50000 [==============================] - 19s 389us/step - loss: 0.6333 - acc: 0.7930 - val_loss: 0.6644 - val_acc: 0.7834\n",
      "Epoch 91/100\n",
      "50000/50000 [==============================] - 20s 394us/step - loss: 0.6271 - acc: 0.7920 - val_loss: 0.6616 - val_acc: 0.7857\n",
      "Epoch 92/100\n",
      "50000/50000 [==============================] - 20s 392us/step - loss: 0.6330 - acc: 0.7911 - val_loss: 0.7261 - val_acc: 0.7821\n",
      "Epoch 93/100\n",
      "50000/50000 [==============================] - 20s 393us/step - loss: 0.6268 - acc: 0.7919 - val_loss: 0.7364 - val_acc: 0.7745\n",
      "Epoch 94/100\n",
      "50000/50000 [==============================] - 20s 392us/step - loss: 0.6279 - acc: 0.7940 - val_loss: 0.7520 - val_acc: 0.7718\n",
      "Epoch 95/100\n",
      "50000/50000 [==============================] - 20s 393us/step - loss: 0.6267 - acc: 0.7912 - val_loss: 0.6640 - val_acc: 0.7857\n",
      "Epoch 96/100\n",
      "50000/50000 [==============================] - 20s 393us/step - loss: 0.6293 - acc: 0.7935 - val_loss: 0.6778 - val_acc: 0.7809\n",
      "Epoch 97/100\n",
      "50000/50000 [==============================] - 20s 394us/step - loss: 0.6306 - acc: 0.7921 - val_loss: 0.6703 - val_acc: 0.7795\n",
      "Epoch 98/100\n",
      "50000/50000 [==============================] - 20s 391us/step - loss: 0.6331 - acc: 0.7929 - val_loss: 0.6731 - val_acc: 0.7825\n",
      "Epoch 99/100\n",
      "50000/50000 [==============================] - 20s 392us/step - loss: 0.6342 - acc: 0.7947 - val_loss: 0.6930 - val_acc: 0.7721\n",
      "Epoch 100/100\n",
      "50000/50000 [==============================] - 20s 391us/step - loss: 0.6280 - acc: 0.7940 - val_loss: 0.7405 - val_acc: 0.7705\n",
      "Saved trained model at C:\\Users\\Emmet Zhao\\AED_DEMO\\7374\\Assignment1\\saved_models\\keras_cifar10_trained_model.h5 \n",
      "10000/10000 [==============================] - 1s 120us/step\n",
      "Test loss: 0.740486582375\n",
      "Test accuracy: 0.7705\n"
     ]
    }
   ],
   "source": [
    "model.compile(loss='categorical_crossentropy',\n",
    "              optimizer=opt,\n",
    "              metrics=['accuracy'])\n",
    "\n",
    "x_train = x_train.astype('float32')\n",
    "x_test = x_test.astype('float32')\n",
    "x_train /= 255\n",
    "x_test /= 255\n",
    "\n",
    "if not data_augmentation:\n",
    "    print('Not using data augmentation.')\n",
    "    hist = model.fit(x_train, y_train,\n",
    "              batch_size=batch_size,\n",
    "              epochs=epochs,\n",
    "              validation_data=(x_test, y_test),\n",
    "              shuffle=True)\n",
    "else:\n",
    "    print('Using real-time data augmentation.')\n",
    "    # This will do preprocessing and realtime data augmentation:\n",
    "    datagen = ImageDataGenerator(\n",
    "        featurewise_center=False,  # set input mean to 0 over the dataset\n",
    "        samplewise_center=False,  # set each sample mean to 0\n",
    "        featurewise_std_normalization=False,  # divide inputs by std of the dataset\n",
    "        samplewise_std_normalization=False,  # divide each input by its std\n",
    "        zca_whitening=False,  # apply ZCA whitening\n",
    "        zca_epsilon=1e-06,  # epsilon for ZCA whitening\n",
    "        rotation_range=0,  # randomly rotate images in the range (degrees, 0 to 180)\n",
    "        # randomly shift images horizontally (fraction of total width)\n",
    "        width_shift_range=0.1,\n",
    "        # randomly shift images vertically (fraction of total height)\n",
    "        height_shift_range=0.1,\n",
    "        shear_range=0.,  # set range for random shear\n",
    "        zoom_range=0.,  # set range for random zoom\n",
    "        channel_shift_range=0.,  # set range for random channel shifts\n",
    "        # set mode for filling points outside the input boundaries\n",
    "        fill_mode='nearest',\n",
    "        cval=0.,  # value used for fill_mode = \"constant\"\n",
    "        horizontal_flip=True,  # randomly flip images\n",
    "        vertical_flip=False,  # randomly flip images\n",
    "        # set rescaling factor (applied before any other transformation)\n",
    "        rescale=None,\n",
    "        # set function that will be applied on each input\n",
    "        preprocessing_function=None,\n",
    "        # image data format, either \"channels_first\" or \"channels_last\"\n",
    "        data_format=None,\n",
    "        # fraction of images reserved for validation (strictly between 0 and 1)\n",
    "        validation_split=0.2)\n",
    "\n",
    "    # Compute quantities required for feature-wise normalization\n",
    "    # (std, mean, and principal components if ZCA whitening is applied).\n",
    "    datagen.fit(x_train)\n",
    "\n",
    "    # Fit the model on the batches generated by datagen.flow().\n",
    "    hist = model.fit_generator(datagen.flow(x_train, y_train,\n",
    "                                     batch_size=batch_size),\n",
    "                        epochs=epochs,\n",
    "                        validation_data=(x_test, y_test),\n",
    "                        workers=4)\n",
    "\n",
    "# Save model and weights\n",
    "if not os.path.isdir(save_dir):\n",
    "    os.makedirs(save_dir)\n",
    "model_path = os.path.join(save_dir, model_name)\n",
    "model.save(model_path)\n",
    "print('Saved trained model at %s ' % model_path)\n",
    "\n",
    "# Score trained model.\n",
    "scores = model.evaluate(x_test, y_test, verbose=1)\n",
    "print('Test loss:', scores[0])\n",
    "print('Test accuracy:', scores[1])"
   ]
  },
  {
   "cell_type": "code",
   "execution_count": 10,
   "metadata": {},
   "outputs": [
    {
     "name": "stdout",
     "output_type": "stream",
     "text": [
      "dict_keys(['val_loss', 'val_acc', 'loss', 'acc'])\n"
     ]
    }
   ],
   "source": [
    "print(hist.history.keys())"
   ]
  },
  {
   "cell_type": "code",
   "execution_count": 11,
   "metadata": {},
   "outputs": [
    {
     "data": {
      "image/png": "[encoded data removed]",
      "text/plain": [
       "<matplotlib.figure.Figure at 0x2b02d0ef908>"
      ]
     },
     "metadata": {},
     "output_type": "display_data"
    }
   ],
   "source": [
    "plt.plot(hist.history['acc'])\n",
    "plt.plot(hist.history['val_acc'])\n",
    "plt.title('model accuracy')\n",
    "plt.ylabel('accuracy')\n",
    "plt.xlabel('epoch')\n",
    "plt.legend(['train', 'test'], loc='upper left')\n",
    "plt.show()"
   ]
  },
  {
   "cell_type": "code",
   "execution_count": 12,
   "metadata": {},
   "outputs": [
    {
     "data": {
      "image/png": "[encoded data removed]",
      "text/plain": [
       "<matplotlib.figure.Figure at 0x2b0bfa99710>"
      ]
     },
     "metadata": {},
     "output_type": "display_data"
    }
   ],
   "source": [
    "plt.plot(hist.history['loss'])\n",
    "plt.plot(hist.history['val_loss'])\n",
    "plt.title('model loss')\n",
    "plt.ylabel('loss')\n",
    "plt.xlabel('epoch')\n",
    "plt.legend(['train', 'test'], loc='upper left')\n",
    "plt.show()"
   ]
  },
  {
   "cell_type": "markdown",
   "metadata": {},
   "source": [
    "# Adding neurons in layers"
   ]
  },
  {
   "cell_type": "code",
   "execution_count": 2,
   "metadata": {
    "collapsed": true
   },
   "outputs": [],
   "source": [
    "batch_size = 32\n",
    "num_classes = 10\n",
    "epochs = 30\n",
    "data_augmentation = False\n",
    "num_predictions = 20\n",
    "save_dir = os.path.join(os.getcwd(), 'saved_models')\n",
    "model_name = 'keras_cifar10_trained_model_changeLayer.h5'"
   ]
  },
  {
   "cell_type": "code",
   "execution_count": 3,
   "metadata": {},
   "outputs": [
    {
     "name": "stdout",
     "output_type": "stream",
     "text": [
      "x_train shape: (50000, 32, 32, 3)\n",
      "50000 train samples\n",
      "10000 test samples\n"
     ]
    }
   ],
   "source": [
    "(x_train, y_train), (x_test, y_test) = cifar10.load_data()\n",
    "print('x_train shape:', x_train.shape)\n",
    "print(x_train.shape[0], 'train samples')\n",
    "print(x_test.shape[0], 'test samples')"
   ]
  },
  {
   "cell_type": "code",
   "execution_count": 4,
   "metadata": {
    "collapsed": true
   },
   "outputs": [],
   "source": [
    "y_train = keras.utils.to_categorical(y_train, num_classes)\n",
    "y_test = keras.utils.to_categorical(y_test, num_classes)\n",
    "\n",
    "model = Sequential()\n",
    "model.add(Conv2D(32, (3, 3), padding='same',\n",
    "                 input_shape=x_train.shape[1:]))\n",
    "model.add(Activation('relu'))\n",
    "model.add(Conv2D(64, (3, 3)))\n",
    "model.add(Activation('relu'))\n",
    "model.add(MaxPooling2D(pool_size=(2, 2)))\n",
    "model.add(Dropout(0.25))\n",
    "\n",
    "model.add(Conv2D(128, (3, 3), padding='same'))\n",
    "model.add(Activation('relu'))\n",
    "model.add(Conv2D(128, (3, 3)))\n",
    "model.add(Activation('relu'))\n",
    "model.add(MaxPooling2D(pool_size=(2, 2)))\n",
    "model.add(Dropout(0.25))\n",
    "\n",
    "model.add(Flatten())\n",
    "model.add(Dense(1024))\n",
    "model.add(Activation('relu'))\n",
    "model.add(Dropout(0.5))\n",
    "model.add(Dense(num_classes))\n",
    "model.add(Activation('softmax'))\n",
    "\n",
    "opt = keras.optimizers.rmsprop(lr=0.0001, decay=1e-6)"
   ]
  },
  {
   "cell_type": "code",
   "execution_count": 5,
   "metadata": {
    "scrolled": false
   },
   "outputs": [
    {
     "name": "stdout",
     "output_type": "stream",
     "text": [
      "_________________________________________________________________\n",
      "Layer (type)                 Output Shape              Param #   \n",
      "=================================================================\n",
      "conv2d_1 (Conv2D)            (None, 32, 32, 32)        896       \n",
      "_________________________________________________________________\n",
      "activation_1 (Activation)    (None, 32, 32, 32)        0         \n",
      "_________________________________________________________________\n",
      "conv2d_2 (Conv2D)            (None, 30, 30, 64)        18496     \n",
      "_________________________________________________________________\n",
      "activation_2 (Activation)    (None, 30, 30, 64)        0         \n",
      "_________________________________________________________________\n",
      "max_pooling2d_1 (MaxPooling2 (None, 15, 15, 64)        0         \n",
      "_________________________________________________________________\n",
      "dropout_1 (Dropout)          (None, 15, 15, 64)        0         \n",
      "_________________________________________________________________\n",
      "conv2d_3 (Conv2D)            (None, 15, 15, 128)       73856     \n",
      "_________________________________________________________________\n",
      "activation_3 (Activation)    (None, 15, 15, 128)       0         \n",
      "_________________________________________________________________\n",
      "conv2d_4 (Conv2D)            (None, 13, 13, 128)       147584    \n",
      "_________________________________________________________________\n",
      "activation_4 (Activation)    (None, 13, 13, 128)       0         \n",
      "_________________________________________________________________\n",
      "max_pooling2d_2 (MaxPooling2 (None, 6, 6, 128)         0         \n",
      "_________________________________________________________________\n",
      "dropout_2 (Dropout)          (None, 6, 6, 128)         0         \n",
      "_________________________________________________________________\n",
      "flatten_1 (Flatten)          (None, 4608)              0         \n",
      "_________________________________________________________________\n",
      "dense_1 (Dense)              (None, 1024)              4719616   \n",
      "_________________________________________________________________\n",
      "activation_5 (Activation)    (None, 1024)              0         \n",
      "_________________________________________________________________\n",
      "dropout_3 (Dropout)          (None, 1024)              0         \n",
      "_________________________________________________________________\n",
      "dense_2 (Dense)              (None, 10)                10250     \n",
      "_________________________________________________________________\n",
      "activation_6 (Activation)    (None, 10)                0         \n",
      "=================================================================\n",
      "Total params: 4,970,698\n",
      "Trainable params: 4,970,698\n",
      "Non-trainable params: 0\n",
      "_________________________________________________________________\n"
     ]
    }
   ],
   "source": [
    "model.summary()"
   ]
  },
  {
   "cell_type": "code",
   "execution_count": 15,
   "metadata": {
    "scrolled": true
   },
   "outputs": [
    {
     "name": "stdout",
     "output_type": "stream",
     "text": [
      "Not using data augmentation.\n",
      "Train on 50000 samples, validate on 10000 samples\n",
      "Epoch 1/30\n",
      "50000/50000 [==============================] - 34s 690us/step - loss: 1.7105 - acc: 0.3784 - val_loss: 1.4068 - val_acc: 0.4858\n",
      "Epoch 2/30\n",
      "50000/50000 [==============================] - 34s 682us/step - loss: 1.3357 - acc: 0.5227 - val_loss: 1.1712 - val_acc: 0.5894\n",
      "Epoch 3/30\n",
      "50000/50000 [==============================] - 34s 685us/step - loss: 1.1582 - acc: 0.5897 - val_loss: 1.0373 - val_acc: 0.6372\n",
      "Epoch 4/30\n",
      "50000/50000 [==============================] - 34s 681us/step - loss: 1.0369 - acc: 0.6366 - val_loss: 0.9300 - val_acc: 0.6784\n",
      "Epoch 5/30\n",
      "50000/50000 [==============================] - 35s 694us/step - loss: 0.9431 - acc: 0.6710 - val_loss: 0.9322 - val_acc: 0.6814\n",
      "Epoch 6/30\n",
      "50000/50000 [==============================] - 34s 684us/step - loss: 0.8734 - acc: 0.6955 - val_loss: 0.8397 - val_acc: 0.7100\n",
      "Epoch 7/30\n",
      "50000/50000 [==============================] - 34s 681us/step - loss: 0.8167 - acc: 0.7162 - val_loss: 0.8013 - val_acc: 0.7264\n",
      "Epoch 8/30\n",
      "50000/50000 [==============================] - 34s 679us/step - loss: 0.7687 - acc: 0.7336 - val_loss: 0.7636 - val_acc: 0.7355\n",
      "Epoch 9/30\n",
      "50000/50000 [==============================] - 34s 678us/step - loss: 0.7268 - acc: 0.7473 - val_loss: 0.7398 - val_acc: 0.7458\n",
      "Epoch 10/30\n",
      "50000/50000 [==============================] - 34s 683us/step - loss: 0.6922 - acc: 0.7617 - val_loss: 0.7459 - val_acc: 0.7424\n",
      "Epoch 11/30\n",
      "50000/50000 [==============================] - 34s 679us/step - loss: 0.6626 - acc: 0.7710 - val_loss: 0.6844 - val_acc: 0.7681\n",
      "Epoch 12/30\n",
      "50000/50000 [==============================] - 34s 678us/step - loss: 0.6371 - acc: 0.7802 - val_loss: 0.7125 - val_acc: 0.7628\n",
      "Epoch 13/30\n",
      "50000/50000 [==============================] - 34s 677us/step - loss: 0.6164 - acc: 0.7886 - val_loss: 0.6813 - val_acc: 0.7741\n",
      "Epoch 14/30\n",
      "50000/50000 [==============================] - 34s 687us/step - loss: 0.5965 - acc: 0.7939 - val_loss: 0.7131 - val_acc: 0.7606\n",
      "Epoch 15/30\n",
      "50000/50000 [==============================] - 34s 676us/step - loss: 0.5804 - acc: 0.8006 - val_loss: 0.7473 - val_acc: 0.7559\n",
      "Epoch 16/30\n",
      "50000/50000 [==============================] - 34s 676us/step - loss: 0.5648 - acc: 0.8080 - val_loss: 0.6535 - val_acc: 0.7779\n",
      "Epoch 17/30\n",
      "50000/50000 [==============================] - 34s 674us/step - loss: 0.5568 - acc: 0.8121 - val_loss: 0.6462 - val_acc: 0.7816\n",
      "Epoch 18/30\n",
      "50000/50000 [==============================] - 34s 671us/step - loss: 0.5452 - acc: 0.8159 - val_loss: 0.6712 - val_acc: 0.7854\n",
      "Epoch 19/30\n",
      "50000/50000 [==============================] - 34s 672us/step - loss: 0.5379 - acc: 0.8188 - val_loss: 0.6291 - val_acc: 0.7934\n",
      "Epoch 20/30\n",
      "50000/50000 [==============================] - 34s 673us/step - loss: 0.5328 - acc: 0.8192 - val_loss: 0.6506 - val_acc: 0.7877\n",
      "Epoch 21/30\n",
      "50000/50000 [==============================] - 34s 672us/step - loss: 0.5215 - acc: 0.8245 - val_loss: 0.6143 - val_acc: 0.7956\n",
      "Epoch 22/30\n",
      "50000/50000 [==============================] - 34s 670us/step - loss: 0.5144 - acc: 0.8277 - val_loss: 0.6774 - val_acc: 0.7871\n",
      "Epoch 23/30\n",
      "50000/50000 [==============================] - 33s 669us/step - loss: 0.5106 - acc: 0.8289 - val_loss: 0.6123 - val_acc: 0.7993\n",
      "Epoch 24/30\n",
      "50000/50000 [==============================] - 34s 671us/step - loss: 0.5058 - acc: 0.8305 - val_loss: 0.6236 - val_acc: 0.7972\n",
      "Epoch 25/30\n",
      "50000/50000 [==============================] - 33s 668us/step - loss: 0.5011 - acc: 0.8334 - val_loss: 0.6280 - val_acc: 0.8011\n",
      "Epoch 26/30\n",
      "50000/50000 [==============================] - 33s 668us/step - loss: 0.4902 - acc: 0.8362 - val_loss: 0.6212 - val_acc: 0.8010\n",
      "Epoch 27/30\n",
      "50000/50000 [==============================] - 33s 668us/step - loss: 0.4921 - acc: 0.8356 - val_loss: 0.6344 - val_acc: 0.7989\n",
      "Epoch 28/30\n",
      "50000/50000 [==============================] - 33s 669us/step - loss: 0.4879 - acc: 0.8376 - val_loss: 0.5984 - val_acc: 0.8085\n",
      "Epoch 29/30\n",
      "50000/50000 [==============================] - 33s 668us/step - loss: 0.4814 - acc: 0.8397 - val_loss: 0.6442 - val_acc: 0.7992\n",
      "Epoch 30/30\n",
      "50000/50000 [==============================] - 33s 668us/step - loss: 0.4813 - acc: 0.8397 - val_loss: 0.6061 - val_acc: 0.8098\n",
      "Saved trained model at C:\\Users\\Emmet Zhao\\AED_DEMO\\7374\\Assignment1\\saved_models\\keras_cifar10_trained_model_changeLayer.h5 \n",
      "10000/10000 [==============================] - 2s 165us/step\n",
      "Test loss: 0.60612752037\n",
      "Test accuracy: 0.8098\n"
     ]
    }
   ],
   "source": [
    "model.compile(loss='categorical_crossentropy',\n",
    "              optimizer=opt,\n",
    "              metrics=['accuracy'])\n",
    "\n",
    "x_train = x_train.astype('float32')\n",
    "x_test = x_test.astype('float32')\n",
    "x_train /= 255\n",
    "x_test /= 255\n",
    "\n",
    "if not data_augmentation:\n",
    "    print('Not using data augmentation.')\n",
    "    hist = model.fit(x_train, y_train,\n",
    "              batch_size=batch_size,\n",
    "              epochs=epochs,\n",
    "              validation_data=(x_test, y_test),\n",
    "              shuffle=True)\n",
    "else:\n",
    "    print('Using real-time data augmentation.')\n",
    "    # This will do preprocessing and realtime data augmentation:\n",
    "    datagen = ImageDataGenerator(\n",
    "        featurewise_center=False,  # set input mean to 0 over the dataset\n",
    "        samplewise_center=False,  # set each sample mean to 0\n",
    "        featurewise_std_normalization=False,  # divide inputs by std of the dataset\n",
    "        samplewise_std_normalization=False,  # divide each input by its std\n",
    "        zca_whitening=False,  # apply ZCA whitening\n",
    "        zca_epsilon=1e-06,  # epsilon for ZCA whitening\n",
    "        rotation_range=0,  # randomly rotate images in the range (degrees, 0 to 180)\n",
    "        # randomly shift images horizontally (fraction of total width)\n",
    "        width_shift_range=0.1,\n",
    "        # randomly shift images vertically (fraction of total height)\n",
    "        height_shift_range=0.1,\n",
    "        shear_range=0.,  # set range for random shear\n",
    "        zoom_range=0.,  # set range for random zoom\n",
    "        channel_shift_range=0.,  # set range for random channel shifts\n",
    "        # set mode for filling points outside the input boundaries\n",
    "        fill_mode='nearest',\n",
    "        cval=0.,  # value used for fill_mode = \"constant\"\n",
    "        horizontal_flip=True,  # randomly flip images\n",
    "        vertical_flip=False,  # randomly flip images\n",
    "        # set rescaling factor (applied before any other transformation)\n",
    "        rescale=None,\n",
    "        # set function that will be applied on each input\n",
    "        preprocessing_function=None,\n",
    "        # image data format, either \"channels_first\" or \"channels_last\"\n",
    "        data_format=None,\n",
    "        # fraction of images reserved for validation (strictly between 0 and 1)\n",
    "        validation_split=0.2)\n",
    "\n",
    "    # Compute quantities required for feature-wise normalization\n",
    "    # (std, mean, and principal components if ZCA whitening is applied).\n",
    "    datagen.fit(x_train)\n",
    "\n",
    "    # Fit the model on the batches generated by datagen.flow().\n",
    "    hist = model.fit_generator(datagen.flow(x_train, y_train,\n",
    "                                     batch_size=batch_size),\n",
    "                        epochs=epochs,\n",
    "                        validation_data=(x_test, y_test),\n",
    "                        workers=4)\n",
    "\n",
    "# Save model and weights\n",
    "if not os.path.isdir(save_dir):\n",
    "    os.makedirs(save_dir)\n",
    "model_path = os.path.join(save_dir, model_name)\n",
    "model.save(model_path)\n",
    "print('Saved trained model at %s ' % model_path)\n",
    "\n",
    "# Score trained model.\n",
    "scores = model.evaluate(x_test, y_test, verbose=1)\n",
    "print('Test loss:', scores[0])\n",
    "print('Test accuracy:', scores[1])"
   ]
  },
  {
   "cell_type": "code",
   "execution_count": 16,
   "metadata": {},
   "outputs": [
    {
     "data": {
      "image/png": "[encoded data removed]",
      "text/plain": [
       "<matplotlib.figure.Figure at 0x2728dc464e0>"
      ]
     },
     "metadata": {},
     "output_type": "display_data"
    }
   ],
   "source": [
    "plt.plot(hist.history['acc'])\n",
    "plt.plot(hist.history['val_acc'])\n",
    "plt.title('model accuracy')\n",
    "plt.ylabel('accuracy')\n",
    "plt.xlabel('epoch')\n",
    "plt.legend(['train', 'test'], loc='upper left')\n",
    "plt.show()"
   ]
  },
  {
   "cell_type": "code",
   "execution_count": 17,
   "metadata": {},
   "outputs": [
    {
     "data": {
      "image/png": "[encoded data removed]",
      "text/plain": [
       "<matplotlib.figure.Figure at 0x2728dc46748>"
      ]
     },
     "metadata": {},
     "output_type": "display_data"
    }
   ],
   "source": [
    "plt.plot(hist.history['loss'])\n",
    "plt.plot(hist.history['val_loss'])\n",
    "plt.title('model loss')\n",
    "plt.ylabel('loss')\n",
    "plt.xlabel('epoch')\n",
    "plt.legend(['train', 'test'], loc='upper left')\n",
    "plt.show()"
   ]
  },
  {
   "cell_type": "markdown",
   "metadata": {},
   "source": [
    "# Add Conv2D layers"
   ]
  },
  {
   "cell_type": "code",
   "execution_count": 4,
   "metadata": {
    "collapsed": true
   },
   "outputs": [],
   "source": [
    "batch_size = 32\n",
    "num_classes = 10\n",
    "epochs = 30\n",
    "data_augmentation = False\n",
    "num_predictions = 20\n",
    "save_dir = os.path.join(os.getcwd(), 'saved_models')\n",
    "model_name = 'keras_cifar10_trained_model_changeLayer1.h5'"
   ]
  },
  {
   "cell_type": "code",
   "execution_count": 5,
   "metadata": {},
   "outputs": [
    {
     "name": "stdout",
     "output_type": "stream",
     "text": [
      "x_train shape: (50000, 32, 32, 3)\n",
      "50000 train samples\n",
      "10000 test samples\n"
     ]
    }
   ],
   "source": [
    "(x_train, y_train), (x_test, y_test) = cifar10.load_data()\n",
    "print('x_train shape:', x_train.shape)\n",
    "print(x_train.shape[0], 'train samples')\n",
    "print(x_test.shape[0], 'test samples')"
   ]
  },
  {
   "cell_type": "code",
   "execution_count": 6,
   "metadata": {
    "collapsed": true
   },
   "outputs": [],
   "source": [
    "y_train = keras.utils.to_categorical(y_train, num_classes)\n",
    "y_test = keras.utils.to_categorical(y_test, num_classes)\n",
    "\n",
    "model = Sequential()\n",
    "model.add(Conv2D(32, (3, 3), padding='same',\n",
    "                 input_shape=x_train.shape[1:]))\n",
    "model.add(Activation('relu'))\n",
    "model.add(Conv2D(64, (3, 3)))\n",
    "model.add(Activation('relu'))\n",
    "model.add(Conv2D(64, (3, 3)))\n",
    "model.add(Activation('relu'))\n",
    "model.add(MaxPooling2D(pool_size=(2, 2)))\n",
    "model.add(Dropout(0.25))\n",
    "\n",
    "model.add(Conv2D(128, (3, 3), padding='same'))\n",
    "model.add(Activation('relu'))\n",
    "model.add(Conv2D(128, (3, 3)))\n",
    "model.add(Activation('relu'))\n",
    "model.add(Conv2D(128, (3, 3)))\n",
    "model.add(Activation('relu'))\n",
    "model.add(MaxPooling2D(pool_size=(2, 2)))\n",
    "model.add(Dropout(0.25))\n",
    "\n",
    "model.add(Flatten())\n",
    "model.add(Dense(1024))\n",
    "model.add(Activation('relu'))\n",
    "model.add(Dropout(0.5))\n",
    "model.add(Dense(num_classes))\n",
    "model.add(Activation('softmax'))\n",
    "\n",
    "opt = keras.optimizers.rmsprop(lr=0.0001, decay=1e-6)"
   ]
  },
  {
   "cell_type": "code",
   "execution_count": 7,
   "metadata": {},
   "outputs": [
    {
     "name": "stdout",
     "output_type": "stream",
     "text": [
      "_________________________________________________________________\n",
      "Layer (type)                 Output Shape              Param #   \n",
      "=================================================================\n",
      "conv2d_1 (Conv2D)            (None, 32, 32, 32)        896       \n",
      "_________________________________________________________________\n",
      "activation_1 (Activation)    (None, 32, 32, 32)        0         \n",
      "_________________________________________________________________\n",
      "conv2d_2 (Conv2D)            (None, 30, 30, 64)        18496     \n",
      "_________________________________________________________________\n",
      "activation_2 (Activation)    (None, 30, 30, 64)        0         \n",
      "_________________________________________________________________\n",
      "conv2d_3 (Conv2D)            (None, 28, 28, 64)        36928     \n",
      "_________________________________________________________________\n",
      "activation_3 (Activation)    (None, 28, 28, 64)        0         \n",
      "_________________________________________________________________\n",
      "max_pooling2d_1 (MaxPooling2 (None, 14, 14, 64)        0         \n",
      "_________________________________________________________________\n",
      "dropout_1 (Dropout)          (None, 14, 14, 64)        0         \n",
      "_________________________________________________________________\n",
      "conv2d_4 (Conv2D)            (None, 14, 14, 128)       73856     \n",
      "_________________________________________________________________\n",
      "activation_4 (Activation)    (None, 14, 14, 128)       0         \n",
      "_________________________________________________________________\n",
      "conv2d_5 (Conv2D)            (None, 12, 12, 128)       147584    \n",
      "_________________________________________________________________\n",
      "activation_5 (Activation)    (None, 12, 12, 128)       0         \n",
      "_________________________________________________________________\n",
      "conv2d_6 (Conv2D)            (None, 10, 10, 128)       147584    \n",
      "_________________________________________________________________\n",
      "activation_6 (Activation)    (None, 10, 10, 128)       0         \n",
      "_________________________________________________________________\n",
      "max_pooling2d_2 (MaxPooling2 (None, 5, 5, 128)         0         \n",
      "_________________________________________________________________\n",
      "dropout_2 (Dropout)          (None, 5, 5, 128)         0         \n",
      "_________________________________________________________________\n",
      "flatten_1 (Flatten)          (None, 3200)              0         \n",
      "_________________________________________________________________\n",
      "dense_1 (Dense)              (None, 1024)              3277824   \n",
      "_________________________________________________________________\n",
      "activation_7 (Activation)    (None, 1024)              0         \n",
      "_________________________________________________________________\n",
      "dropout_3 (Dropout)          (None, 1024)              0         \n",
      "_________________________________________________________________\n",
      "dense_2 (Dense)              (None, 10)                10250     \n",
      "_________________________________________________________________\n",
      "activation_8 (Activation)    (None, 10)                0         \n",
      "=================================================================\n",
      "Total params: 3,713,418\n",
      "Trainable params: 3,713,418\n",
      "Non-trainable params: 0\n",
      "_________________________________________________________________\n"
     ]
    }
   ],
   "source": [
    "model.summary()"
   ]
  },
  {
   "cell_type": "code",
   "execution_count": 8,
   "metadata": {
    "scrolled": true
   },
   "outputs": [
    {
     "name": "stdout",
     "output_type": "stream",
     "text": [
      "Not using data augmentation.\n",
      "Train on 50000 samples, validate on 10000 samples\n",
      "Epoch 1/30\n",
      "50000/50000 [==============================] - 45s 904us/step - loss: 1.7166 - acc: 0.3707 - val_loss: 1.4137 - val_acc: 0.4857\n",
      "Epoch 2/30\n",
      "50000/50000 [==============================] - 38s 760us/step - loss: 1.3368 - acc: 0.5186 - val_loss: 1.3028 - val_acc: 0.5521\n",
      "Epoch 3/30\n",
      "50000/50000 [==============================] - 39s 772us/step - loss: 1.1641 - acc: 0.5866 - val_loss: 1.1629 - val_acc: 0.5898\n",
      "Epoch 4/30\n",
      "50000/50000 [==============================] - 39s 775us/step - loss: 1.0397 - acc: 0.6326 - val_loss: 1.0058 - val_acc: 0.6453\n",
      "Epoch 5/30\n",
      "50000/50000 [==============================] - 38s 765us/step - loss: 0.9418 - acc: 0.6705 - val_loss: 0.9134 - val_acc: 0.6750\n",
      "Epoch 6/30\n",
      "50000/50000 [==============================] - 38s 761us/step - loss: 0.8632 - acc: 0.6989 - val_loss: 0.8488 - val_acc: 0.7031\n",
      "Epoch 7/30\n",
      "50000/50000 [==============================] - 38s 756us/step - loss: 0.8015 - acc: 0.7206 - val_loss: 0.7647 - val_acc: 0.7295\n",
      "Epoch 8/30\n",
      "50000/50000 [==============================] - 38s 751us/step - loss: 0.7525 - acc: 0.7360 - val_loss: 0.7329 - val_acc: 0.7485\n",
      "Epoch 9/30\n",
      "50000/50000 [==============================] - 38s 760us/step - loss: 0.7098 - acc: 0.7520 - val_loss: 0.7268 - val_acc: 0.7436\n",
      "Epoch 10/30\n",
      "50000/50000 [==============================] - 38s 769us/step - loss: 0.6746 - acc: 0.7649 - val_loss: 0.7430 - val_acc: 0.7511\n",
      "Epoch 11/30\n",
      "50000/50000 [==============================] - 38s 764us/step - loss: 0.6385 - acc: 0.7794 - val_loss: 0.7470 - val_acc: 0.7433\n",
      "Epoch 12/30\n",
      "50000/50000 [==============================] - 39s 774us/step - loss: 0.6113 - acc: 0.7882 - val_loss: 0.6978 - val_acc: 0.7625\n",
      "Epoch 13/30\n",
      "50000/50000 [==============================] - 39s 773us/step - loss: 0.5878 - acc: 0.7955 - val_loss: 0.6214 - val_acc: 0.7870\n",
      "Epoch 14/30\n",
      "50000/50000 [==============================] - 39s 775us/step - loss: 0.5645 - acc: 0.8024 - val_loss: 0.7048 - val_acc: 0.7618\n",
      "Epoch 15/30\n",
      "50000/50000 [==============================] - 39s 787us/step - loss: 0.5463 - acc: 0.8100 - val_loss: 0.6387 - val_acc: 0.7853\n",
      "Epoch 16/30\n",
      "50000/50000 [==============================] - 39s 770us/step - loss: 0.5253 - acc: 0.8174 - val_loss: 0.5987 - val_acc: 0.7933\n",
      "Epoch 17/30\n",
      "50000/50000 [==============================] - 39s 773us/step - loss: 0.5117 - acc: 0.8225 - val_loss: 0.5850 - val_acc: 0.8004\n",
      "Epoch 18/30\n",
      "50000/50000 [==============================] - 39s 771us/step - loss: 0.4935 - acc: 0.8291 - val_loss: 0.7909 - val_acc: 0.7483\n",
      "Epoch 19/30\n",
      "50000/50000 [==============================] - 39s 787us/step - loss: 0.4821 - acc: 0.8331 - val_loss: 0.6533 - val_acc: 0.7860\n",
      "Epoch 20/30\n",
      "50000/50000 [==============================] - 39s 782us/step - loss: 0.4694 - acc: 0.8380 - val_loss: 0.6105 - val_acc: 0.8015\n",
      "Epoch 21/30\n",
      "50000/50000 [==============================] - 39s 780us/step - loss: 0.4579 - acc: 0.8425 - val_loss: 0.6126 - val_acc: 0.8084\n",
      "Epoch 22/30\n",
      "50000/50000 [==============================] - 39s 784us/step - loss: 0.4477 - acc: 0.8484 - val_loss: 0.6354 - val_acc: 0.8070\n",
      "Epoch 23/30\n",
      "50000/50000 [==============================] - 39s 787us/step - loss: 0.4463 - acc: 0.8484 - val_loss: 0.7602 - val_acc: 0.7838\n",
      "Epoch 24/30\n",
      "50000/50000 [==============================] - 39s 784us/step - loss: 0.4353 - acc: 0.8532 - val_loss: 0.6234 - val_acc: 0.8128\n",
      "Epoch 25/30\n",
      "50000/50000 [==============================] - 39s 782us/step - loss: 0.4300 - acc: 0.8560 - val_loss: 0.7699 - val_acc: 0.7761\n",
      "Epoch 26/30\n",
      "50000/50000 [==============================] - 39s 782us/step - loss: 0.4242 - acc: 0.8570 - val_loss: 0.6477 - val_acc: 0.8012\n",
      "Epoch 27/30\n",
      "50000/50000 [==============================] - 39s 786us/step - loss: 0.4181 - acc: 0.8601 - val_loss: 0.6535 - val_acc: 0.8131\n",
      "Epoch 28/30\n",
      "50000/50000 [==============================] - 39s 784us/step - loss: 0.4177 - acc: 0.8595 - val_loss: 0.6341 - val_acc: 0.8035\n",
      "Epoch 29/30\n",
      "50000/50000 [==============================] - 39s 780us/step - loss: 0.4163 - acc: 0.8617 - val_loss: 0.6340 - val_acc: 0.8213\n",
      "Epoch 30/30\n",
      "50000/50000 [==============================] - 39s 780us/step - loss: 0.4173 - acc: 0.8608 - val_loss: 0.7013 - val_acc: 0.8030\n",
      "Saved trained model at C:\\Users\\Emmet Zhao\\AED_DEMO\\7374\\Assignment1\\saved_models\\keras_cifar10_trained_model_changeLayer1.h5 \n",
      "10000/10000 [==============================] - 2s 210us/step\n",
      "Test loss: 0.701331931043\n",
      "Test accuracy: 0.803\n"
     ]
    }
   ],
   "source": [
    "model.compile(loss='categorical_crossentropy',\n",
    "              optimizer=opt,\n",
    "              metrics=['accuracy'])\n",
    "\n",
    "x_train = x_train.astype('float32')\n",
    "x_test = x_test.astype('float32')\n",
    "x_train /= 255\n",
    "x_test /= 255\n",
    "\n",
    "if not data_augmentation:\n",
    "    print('Not using data augmentation.')\n",
    "    hist = model.fit(x_train, y_train,\n",
    "              batch_size=batch_size,\n",
    "              epochs=epochs,\n",
    "              validation_data=(x_test, y_test),\n",
    "              shuffle=True)\n",
    "else:\n",
    "    print('Using real-time data augmentation.')\n",
    "    # This will do preprocessing and realtime data augmentation:\n",
    "    datagen = ImageDataGenerator(\n",
    "        featurewise_center=False,  # set input mean to 0 over the dataset\n",
    "        samplewise_center=False,  # set each sample mean to 0\n",
    "        featurewise_std_normalization=False,  # divide inputs by std of the dataset\n",
    "        samplewise_std_normalization=False,  # divide each input by its std\n",
    "        zca_whitening=False,  # apply ZCA whitening\n",
    "        zca_epsilon=1e-06,  # epsilon for ZCA whitening\n",
    "        rotation_range=0,  # randomly rotate images in the range (degrees, 0 to 180)\n",
    "        # randomly shift images horizontally (fraction of total width)\n",
    "        width_shift_range=0.1,\n",
    "        # randomly shift images vertically (fraction of total height)\n",
    "        height_shift_range=0.1,\n",
    "        shear_range=0.,  # set range for random shear\n",
    "        zoom_range=0.,  # set range for random zoom\n",
    "        channel_shift_range=0.,  # set range for random channel shifts\n",
    "        # set mode for filling points outside the input boundaries\n",
    "        fill_mode='nearest',\n",
    "        cval=0.,  # value used for fill_mode = \"constant\"\n",
    "        horizontal_flip=True,  # randomly flip images\n",
    "        vertical_flip=False,  # randomly flip images\n",
    "        # set rescaling factor (applied before any other transformation)\n",
    "        rescale=None,\n",
    "        # set function that will be applied on each input\n",
    "        preprocessing_function=None,\n",
    "        # image data format, either \"channels_first\" or \"channels_last\"\n",
    "        data_format=None,\n",
    "        # fraction of images reserved for validation (strictly between 0 and 1)\n",
    "        validation_split=0.2)\n",
    "\n",
    "    # Compute quantities required for feature-wise normalization\n",
    "    # (std, mean, and principal components if ZCA whitening is applied).\n",
    "    datagen.fit(x_train)\n",
    "\n",
    "    # Fit the model on the batches generated by datagen.flow().\n",
    "    hist = model.fit_generator(datagen.flow(x_train, y_train,\n",
    "                                     batch_size=batch_size),\n",
    "                        epochs=epochs,\n",
    "                        validation_data=(x_test, y_test),\n",
    "                        workers=4)\n",
    "\n",
    "# Save model and weights\n",
    "if not os.path.isdir(save_dir):\n",
    "    os.makedirs(save_dir)\n",
    "model_path = os.path.join(save_dir, model_name)\n",
    "model.save(model_path)\n",
    "print('Saved trained model at %s ' % model_path)\n",
    "\n",
    "# Score trained model.\n",
    "scores = model.evaluate(x_test, y_test, verbose=1)\n",
    "print('Test loss:', scores[0])\n",
    "print('Test accuracy:', scores[1])"
   ]
  },
  {
   "cell_type": "code",
   "execution_count": 9,
   "metadata": {},
   "outputs": [
    {
     "data": {
      "image/png": "[encoded data removed]",
      "text/plain": [
       "<matplotlib.figure.Figure at 0x14cf8654438>"
      ]
     },
     "metadata": {},
     "output_type": "display_data"
    }
   ],
   "source": [
    "plt.plot(hist.history['acc'])\n",
    "plt.plot(hist.history['val_acc'])\n",
    "plt.title('model accuracy')\n",
    "plt.ylabel('accuracy')\n",
    "plt.xlabel('epoch')\n",
    "plt.legend(['train', 'test'], loc='upper left')\n",
    "plt.show()"
   ]
  },
  {
   "cell_type": "code",
   "execution_count": 10,
   "metadata": {},
   "outputs": [
    {
     "data": {
      "image/png": "[encoded data removed]",
      "text/plain": [
       "<matplotlib.figure.Figure at 0x14ceb0b0dd8>"
      ]
     },
     "metadata": {},
     "output_type": "display_data"
    }
   ],
   "source": [
    "plt.plot(hist.history['loss'])\n",
    "plt.plot(hist.history['val_loss'])\n",
    "plt.title('model loss')\n",
    "plt.ylabel('loss')\n",
    "plt.xlabel('epoch')\n",
    "plt.legend(['train', 'test'], loc='upper left')\n",
    "plt.show()"
   ]
  },
  {
   "cell_type": "markdown",
   "metadata": {},
   "source": [
    "# Add multiple layers"
   ]
  },
  {
   "cell_type": "code",
   "execution_count": 2,
   "metadata": {
    "collapsed": true
   },
   "outputs": [],
   "source": [
    "batch_size = 64\n",
    "num_classes = 10\n",
    "epochs = 30\n",
    "data_augmentation = False\n",
    "num_predictions = 20\n",
    "save_dir = os.path.join(os.getcwd(), 'saved_models')\n",
    "model_name = 'keras_cifar10_trained_model_changeLayer2.h5'"
   ]
  },
  {
   "cell_type": "code",
   "execution_count": 3,
   "metadata": {},
   "outputs": [
    {
     "name": "stdout",
     "output_type": "stream",
     "text": [
      "x_train shape: (50000, 32, 32, 3)\n",
      "50000 train samples\n",
      "10000 test samples\n"
     ]
    }
   ],
   "source": [
    "(x_train, y_train), (x_test, y_test) = cifar10.load_data()\n",
    "print('x_train shape:', x_train.shape)\n",
    "print(x_train.shape[0], 'train samples')\n",
    "print(x_test.shape[0], 'test samples')"
   ]
  },
  {
   "cell_type": "code",
   "execution_count": 4,
   "metadata": {
    "collapsed": true
   },
   "outputs": [],
   "source": [
    "from keras.layers import BatchNormalization\n",
    "\n",
    "y_train = keras.utils.to_categorical(y_train, num_classes)\n",
    "y_test = keras.utils.to_categorical(y_test, num_classes)\n",
    "\n",
    "model = Sequential()\n",
    "model.add(Conv2D(32, (3, 3), padding='same',\n",
    "                 input_shape=x_train.shape[1:]))\n",
    "model.add(Activation('relu'))\n",
    "model.add(BatchNormalization())\n",
    "model.add(Conv2D(32, (3, 3)))\n",
    "model.add(Activation('relu'))\n",
    "model.add(BatchNormalization())\n",
    "model.add(MaxPooling2D(pool_size=(2, 2)))\n",
    "model.add(Dropout(0.2))\n",
    "\n",
    "model.add(Conv2D(64, (3, 3), padding='same'))\n",
    "model.add(Activation('relu'))\n",
    "model.add(BatchNormalization())\n",
    "model.add(Conv2D(64, (3, 3)))\n",
    "model.add(Activation('relu'))\n",
    "model.add(BatchNormalization())\n",
    "model.add(MaxPooling2D(pool_size=(2, 2)))\n",
    "model.add(Dropout(0.3))\n",
    "\n",
    "model.add(Conv2D(128, (3, 3), padding='same'))\n",
    "model.add(Activation('relu'))\n",
    "model.add(BatchNormalization())\n",
    "model.add(Conv2D(128, (3, 3)))\n",
    "model.add(Activation('relu'))\n",
    "model.add(BatchNormalization())\n",
    "model.add(MaxPooling2D(pool_size=(2, 2)))\n",
    "model.add(Dropout(0.4))\n",
    "\n",
    "model.add(Flatten())\n",
    "model.add(Dense(512))\n",
    "model.add(Activation('relu'))\n",
    "model.add(Dropout(0.5))\n",
    "model.add(Dense(num_classes))\n",
    "model.add(Activation('softmax'))\n",
    "\n",
    "opt = keras.optimizers.rmsprop(lr=0.001, decay=1e-4)"
   ]
  },
  {
   "cell_type": "code",
   "execution_count": 5,
   "metadata": {},
   "outputs": [
    {
     "name": "stdout",
     "output_type": "stream",
     "text": [
      "_________________________________________________________________\n",
      "Layer (type)                 Output Shape              Param #   \n",
      "=================================================================\n",
      "conv2d_1 (Conv2D)            (None, 32, 32, 32)        896       \n",
      "_________________________________________________________________\n",
      "activation_1 (Activation)    (None, 32, 32, 32)        0         \n",
      "_________________________________________________________________\n",
      "batch_normalization_1 (Batch (None, 32, 32, 32)        128       \n",
      "_________________________________________________________________\n",
      "conv2d_2 (Conv2D)            (None, 30, 30, 32)        9248      \n",
      "_________________________________________________________________\n",
      "activation_2 (Activation)    (None, 30, 30, 32)        0         \n",
      "_________________________________________________________________\n",
      "batch_normalization_2 (Batch (None, 30, 30, 32)        128       \n",
      "_________________________________________________________________\n",
      "max_pooling2d_1 (MaxPooling2 (None, 15, 15, 32)        0         \n",
      "_________________________________________________________________\n",
      "dropout_1 (Dropout)          (None, 15, 15, 32)        0         \n",
      "_________________________________________________________________\n",
      "conv2d_3 (Conv2D)            (None, 15, 15, 64)        18496     \n",
      "_________________________________________________________________\n",
      "activation_3 (Activation)    (None, 15, 15, 64)        0         \n",
      "_________________________________________________________________\n",
      "batch_normalization_3 (Batch (None, 15, 15, 64)        256       \n",
      "_________________________________________________________________\n",
      "conv2d_4 (Conv2D)            (None, 13, 13, 64)        36928     \n",
      "_________________________________________________________________\n",
      "activation_4 (Activation)    (None, 13, 13, 64)        0         \n",
      "_________________________________________________________________\n",
      "batch_normalization_4 (Batch (None, 13, 13, 64)        256       \n",
      "_________________________________________________________________\n",
      "max_pooling2d_2 (MaxPooling2 (None, 6, 6, 64)          0         \n",
      "_________________________________________________________________\n",
      "dropout_2 (Dropout)          (None, 6, 6, 64)          0         \n",
      "_________________________________________________________________\n",
      "conv2d_5 (Conv2D)            (None, 6, 6, 128)         73856     \n",
      "_________________________________________________________________\n",
      "activation_5 (Activation)    (None, 6, 6, 128)         0         \n",
      "_________________________________________________________________\n",
      "batch_normalization_5 (Batch (None, 6, 6, 128)         512       \n",
      "_________________________________________________________________\n",
      "conv2d_6 (Conv2D)            (None, 4, 4, 128)         147584    \n",
      "_________________________________________________________________\n",
      "activation_6 (Activation)    (None, 4, 4, 128)         0         \n",
      "_________________________________________________________________\n",
      "batch_normalization_6 (Batch (None, 4, 4, 128)         512       \n",
      "_________________________________________________________________\n",
      "max_pooling2d_3 (MaxPooling2 (None, 2, 2, 128)         0         \n",
      "_________________________________________________________________\n",
      "dropout_3 (Dropout)          (None, 2, 2, 128)         0         \n",
      "_________________________________________________________________\n",
      "flatten_1 (Flatten)          (None, 512)               0         \n",
      "_________________________________________________________________\n",
      "dense_1 (Dense)              (None, 512)               262656    \n",
      "_________________________________________________________________\n",
      "activation_7 (Activation)    (None, 512)               0         \n",
      "_________________________________________________________________\n",
      "dropout_4 (Dropout)          (None, 512)               0         \n",
      "_________________________________________________________________\n",
      "dense_2 (Dense)              (None, 10)                5130      \n",
      "_________________________________________________________________\n",
      "activation_8 (Activation)    (None, 10)                0         \n",
      "=================================================================\n",
      "Total params: 556,586\n",
      "Trainable params: 555,690\n",
      "Non-trainable params: 896\n",
      "_________________________________________________________________\n"
     ]
    }
   ],
   "source": [
    "model.summary()"
   ]
  },
  {
   "cell_type": "code",
   "execution_count": 6,
   "metadata": {
    "scrolled": true
   },
   "outputs": [
    {
     "name": "stdout",
     "output_type": "stream",
     "text": [
      "Not using data augmentation.\n",
      "Train on 50000 samples, validate on 10000 samples\n",
      "Epoch 1/30\n",
      "50000/50000 [==============================] - 25s 493us/step - loss: 1.6504 - acc: 0.4302 - val_loss: 1.3232 - val_acc: 0.5215\n",
      "Epoch 2/30\n",
      "50000/50000 [==============================] - 21s 419us/step - loss: 1.1586 - acc: 0.5990 - val_loss: 1.1227 - val_acc: 0.6152\n",
      "Epoch 3/30\n",
      "50000/50000 [==============================] - 21s 419us/step - loss: 0.9920 - acc: 0.6579 - val_loss: 0.8630 - val_acc: 0.7031\n",
      "Epoch 4/30\n",
      "50000/50000 [==============================] - 21s 418us/step - loss: 0.8962 - acc: 0.6952 - val_loss: 0.9286 - val_acc: 0.6860\n",
      "Epoch 5/30\n",
      "50000/50000 [==============================] - 21s 418us/step - loss: 0.8383 - acc: 0.7178 - val_loss: 0.7399 - val_acc: 0.7517\n",
      "Epoch 6/30\n",
      "50000/50000 [==============================] - 21s 418us/step - loss: 0.7790 - acc: 0.7387 - val_loss: 0.9063 - val_acc: 0.6945\n",
      "Epoch 7/30\n",
      "50000/50000 [==============================] - 21s 418us/step - loss: 0.7330 - acc: 0.7544 - val_loss: 0.6529 - val_acc: 0.7865\n",
      "Epoch 8/30\n",
      "50000/50000 [==============================] - 21s 418us/step - loss: 0.6924 - acc: 0.7675 - val_loss: 0.7114 - val_acc: 0.7661\n",
      "Epoch 9/30\n",
      "50000/50000 [==============================] - 21s 419us/step - loss: 0.6620 - acc: 0.7778 - val_loss: 0.8535 - val_acc: 0.7424\n",
      "Epoch 10/30\n",
      "50000/50000 [==============================] - 23s 450us/step - loss: 0.6274 - acc: 0.7887 - val_loss: 0.5651 - val_acc: 0.8090\n",
      "Epoch 11/30\n",
      "50000/50000 [==============================] - 22s 445us/step - loss: 0.6018 - acc: 0.7979 - val_loss: 0.6201 - val_acc: 0.7953\n",
      "Epoch 12/30\n",
      "50000/50000 [==============================] - 22s 443us/step - loss: 0.5723 - acc: 0.8075 - val_loss: 0.5832 - val_acc: 0.8079\n",
      "Epoch 13/30\n",
      "50000/50000 [==============================] - 21s 422us/step - loss: 0.5523 - acc: 0.8133 - val_loss: 0.5670 - val_acc: 0.8156\n",
      "Epoch 14/30\n",
      "50000/50000 [==============================] - 21s 420us/step - loss: 0.5267 - acc: 0.8208 - val_loss: 0.5288 - val_acc: 0.8246\n",
      "Epoch 15/30\n",
      "50000/50000 [==============================] - 21s 420us/step - loss: 0.5082 - acc: 0.8266 - val_loss: 0.5641 - val_acc: 0.8155\n",
      "Epoch 16/30\n",
      "50000/50000 [==============================] - 21s 421us/step - loss: 0.4913 - acc: 0.8337 - val_loss: 0.5396 - val_acc: 0.8204\n",
      "Epoch 17/30\n",
      "50000/50000 [==============================] - 21s 420us/step - loss: 0.4769 - acc: 0.8355 - val_loss: 0.5250 - val_acc: 0.8276\n",
      "Epoch 18/30\n",
      "50000/50000 [==============================] - 21s 419us/step - loss: 0.4629 - acc: 0.8418 - val_loss: 0.5690 - val_acc: 0.8114\n",
      "Epoch 19/30\n",
      "50000/50000 [==============================] - 21s 422us/step - loss: 0.4476 - acc: 0.8478 - val_loss: 0.5032 - val_acc: 0.8355\n",
      "Epoch 20/30\n",
      "50000/50000 [==============================] - 21s 419us/step - loss: 0.4421 - acc: 0.8500 - val_loss: 0.5655 - val_acc: 0.8190\n",
      "Epoch 21/30\n",
      "50000/50000 [==============================] - 21s 421us/step - loss: 0.4204 - acc: 0.8562 - val_loss: 0.5276 - val_acc: 0.8259\n",
      "Epoch 22/30\n",
      "50000/50000 [==============================] - 21s 424us/step - loss: 0.4126 - acc: 0.8590 - val_loss: 0.5306 - val_acc: 0.8290\n",
      "Epoch 23/30\n",
      "50000/50000 [==============================] - 21s 425us/step - loss: 0.3996 - acc: 0.8627 - val_loss: 0.4813 - val_acc: 0.8435\n",
      "Epoch 24/30\n",
      "50000/50000 [==============================] - 21s 427us/step - loss: 0.3926 - acc: 0.8652 - val_loss: 0.5310 - val_acc: 0.8274\n",
      "Epoch 25/30\n",
      "50000/50000 [==============================] - 21s 425us/step - loss: 0.3820 - acc: 0.8710 - val_loss: 0.5266 - val_acc: 0.8314\n",
      "Epoch 26/30\n",
      "50000/50000 [==============================] - 21s 412us/step - loss: 0.3712 - acc: 0.8741 - val_loss: 0.5331 - val_acc: 0.8280\n",
      "Epoch 27/30\n",
      "50000/50000 [==============================] - 21s 413us/step - loss: 0.3670 - acc: 0.8752 - val_loss: 0.5448 - val_acc: 0.8256\n",
      "Epoch 28/30\n",
      "50000/50000 [==============================] - 21s 415us/step - loss: 0.3633 - acc: 0.8791 - val_loss: 0.5137 - val_acc: 0.8351\n",
      "Epoch 29/30\n",
      "50000/50000 [==============================] - 21s 426us/step - loss: 0.3544 - acc: 0.8793 - val_loss: 0.5017 - val_acc: 0.8392\n",
      "Epoch 30/30\n",
      "50000/50000 [==============================] - 21s 426us/step - loss: 0.3456 - acc: 0.8828 - val_loss: 0.4923 - val_acc: 0.8443\n",
      "Saved trained model at C:\\Users\\Emmet Zhao\\AED_DEMO\\7374\\Assignment1\\saved_models\\keras_cifar10_trained_model_changeLayer2.h5 \n",
      "10000/10000 [==============================] - 2s 193us/step\n",
      "Test loss: 0.492332640553\n",
      "Test accuracy: 0.8443\n"
     ]
    }
   ],
   "source": [
    "model.compile(loss='categorical_crossentropy',\n",
    "              optimizer=opt,\n",
    "              metrics=['accuracy'])\n",
    "\n",
    "x_train = x_train.astype('float32')\n",
    "x_test = x_test.astype('float32')\n",
    "x_train /= 255\n",
    "x_test /= 255\n",
    "\n",
    "if not data_augmentation:\n",
    "    print('Not using data augmentation.')\n",
    "    hist = model.fit(x_train, y_train,\n",
    "              batch_size=batch_size,\n",
    "              epochs=epochs,\n",
    "              validation_data=(x_test, y_test),\n",
    "              shuffle=True)\n",
    "else:\n",
    "    print('Using real-time data augmentation.')\n",
    "    # This will do preprocessing and realtime data augmentation:\n",
    "    datagen = ImageDataGenerator(\n",
    "        featurewise_center=False,  # set input mean to 0 over the dataset\n",
    "        samplewise_center=False,  # set each sample mean to 0\n",
    "        featurewise_std_normalization=False,  # divide inputs by std of the dataset\n",
    "        samplewise_std_normalization=False,  # divide each input by its std\n",
    "        zca_whitening=False,  # apply ZCA whitening\n",
    "        zca_epsilon=1e-06,  # epsilon for ZCA whitening\n",
    "        rotation_range=0,  # randomly rotate images in the range (degrees, 0 to 180)\n",
    "        # randomly shift images horizontally (fraction of total width)\n",
    "        width_shift_range=0.1,\n",
    "        # randomly shift images vertically (fraction of total height)\n",
    "        height_shift_range=0.1,\n",
    "        shear_range=0.,  # set range for random shear\n",
    "        zoom_range=0.,  # set range for random zoom\n",
    "        channel_shift_range=0.,  # set range for random channel shifts\n",
    "        # set mode for filling points outside the input boundaries\n",
    "        fill_mode='nearest',\n",
    "        cval=0.,  # value used for fill_mode = \"constant\"\n",
    "        horizontal_flip=True,  # randomly flip images\n",
    "        vertical_flip=False,  # randomly flip images\n",
    "        # set rescaling factor (applied before any other transformation)\n",
    "        rescale=None,\n",
    "        # set function that will be applied on each input\n",
    "        preprocessing_function=None,\n",
    "        # image data format, either \"channels_first\" or \"channels_last\"\n",
    "        data_format=None,\n",
    "        # fraction of images reserved for validation (strictly between 0 and 1)\n",
    "        validation_split=0.2)\n",
    "\n",
    "    # Compute quantities required for feature-wise normalization\n",
    "    # (std, mean, and principal components if ZCA whitening is applied).\n",
    "    datagen.fit(x_train)\n",
    "\n",
    "    # Fit the model on the batches generated by datagen.flow().\n",
    "    hist = model.fit_generator(datagen.flow(x_train, y_train,\n",
    "                                     batch_size=batch_size),\n",
    "                        epochs=epochs,\n",
    "                        validation_data=(x_test, y_test),\n",
    "                        workers=4)\n",
    "\n",
    "# Save model and weights\n",
    "if not os.path.isdir(save_dir):\n",
    "    os.makedirs(save_dir)\n",
    "model_path = os.path.join(save_dir, model_name)\n",
    "model.save(model_path)\n",
    "print('Saved trained model at %s ' % model_path)\n",
    "\n",
    "# Score trained model.\n",
    "scores = model.evaluate(x_test, y_test, verbose=1)\n",
    "print('Test loss:', scores[0])\n",
    "print('Test accuracy:', scores[1])"
   ]
  },
  {
   "cell_type": "code",
   "execution_count": 7,
   "metadata": {},
   "outputs": [
    {
     "data": {
      "image/png": "[encoded data removed]",
      "text/plain": [
       "<matplotlib.figure.Figure at 0x1d30584c198>"
      ]
     },
     "metadata": {},
     "output_type": "display_data"
    }
   ],
   "source": [
    "plt.plot(hist.history['acc'])\n",
    "plt.plot(hist.history['val_acc'])\n",
    "plt.title('model accuracy')\n",
    "plt.ylabel('accuracy')\n",
    "plt.xlabel('epoch')\n",
    "plt.legend(['train', 'test'], loc='upper left')\n",
    "plt.show()"
   ]
  },
  {
   "cell_type": "code",
   "execution_count": 8,
   "metadata": {},
   "outputs": [
    {
     "data": {
      "image/png": "[encoded data removed]",
      "text/plain": [
       "<matplotlib.figure.Figure at 0x1d30d934cc0>"
      ]
     },
     "metadata": {},
     "output_type": "display_data"
    }
   ],
   "source": [
    "plt.plot(hist.history['loss'])\n",
    "plt.plot(hist.history['val_loss'])\n",
    "plt.title('model loss')\n",
    "plt.ylabel('loss')\n",
    "plt.xlabel('epoch')\n",
    "plt.legend(['train', 'test'], loc='upper left')\n",
    "plt.show()"
   ]
  },
  {
   "cell_type": "code",
   "execution_count": null,
   "metadata": {
    "collapsed": true
   },
   "outputs": [],
   "source": []
  }
 ],
 "metadata": {
  "kernelspec": {
   "display_name": "Python 3",
   "language": "python",
   "name": "python3"
  },
  "language_info": {
   "codemirror_mode": {
    "name": "ipython",
    "version": 3
   },
   "file_extension": ".py",
   "mimetype": "text/x-python",
   "name": "python",
   "nbconvert_exporter": "python",
   "pygments_lexer": "ipython3",
   "version": "3.6.3"
  },
  "widgets": {
   "application/vnd.jupyter.widget-state+json": {
    "state": {},
    "version_major": 2,
    "version_minor": 0
   }
  }
 },
 "nbformat": 4,
 "nbformat_minor": 2
}
